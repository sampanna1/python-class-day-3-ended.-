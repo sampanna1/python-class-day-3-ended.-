{
 "cells": [
  {
   "cell_type": "markdown",
   "id": "40804d6e",
   "metadata": {},
   "source": [
    "# Main properties of Python List:\n",
    "\n",
    "* They are ordered. For Example: 0 1 2 3 4 5 6 7 8 9 \n",
    "* They contain arbitrary objects # For example:  [\"Bob\", 23, \"George\", 72, \" Myriam\", 29]\n",
    "* Elements of a  list can be accessed by an index.\n",
    "* Variable size \n",
    "* They are mutable. For example: The ekements a list can be cahnged. "
   ]
  },
  {
   "cell_type": "code",
   "execution_count": 5,
   "id": "1c64052a",
   "metadata": {},
   "outputs": [
    {
     "data": {
      "text/plain": [
       "['High Up', ['Further down', ['and down', ['deep down', 'the answer, 43']]]]"
      ]
     },
     "execution_count": 5,
     "metadata": {},
     "output_type": "execute_result"
    }
   ],
   "source": [
    "# Examples\n",
    "[] # An Emplty list\n",
    "[43, \"what's the question?\", 3.145] # A list of mixed data types\n",
    "[1,2,3,4,5,6,7,8] # a list of Integers\n",
    "[\"John\", \"Jane\", \"Jake\", \"Jim\"] # a list of strings\n",
    "[[\"London\", \"England\", 75670], [\"paris\", \"France\", 219300]] # A nested list\n",
    "[\"High Up\", [\"Further down\", [\"and down\", [\"deep down\", \"the answer, 43\"]]]]\n",
    "\n",
    "\n",
    "\n",
    "\n",
    "\n"
   ]
  },
  {
   "cell_type": "code",
   "execution_count": 13,
   "id": "ff2e2c38",
   "metadata": {},
   "outputs": [
    {
     "data": {
      "text/plain": [
       "['John', 'Smith']"
      ]
     },
     "execution_count": 13,
     "metadata": {},
     "output_type": "execute_result"
    }
   ],
   "source": [
    "lstPerson = [[\"John\", \"Smith\"], [\"17 New Street\", \"12345\", \"London\"], \"0786-7890\"]\n",
    "name = lstPerson[0]\n",
    "name"
   ]
  },
  {
   "cell_type": "code",
   "execution_count": 21,
   "id": "39925918",
   "metadata": {},
   "outputs": [
    {
     "data": {
      "text/plain": [
       "'17'"
      ]
     },
     "execution_count": 21,
     "metadata": {},
     "output_type": "execute_result"
    }
   ],
   "source": [
    "lstPerson = [[\"John\", \"Smith\"], [\"17 New Street\", \"12345\", \"London\"], \"0786-7890\"]\n",
    "stretname = lstPerson[1][0][0:2]\n",
    "stretname"
   ]
  },
  {
   "cell_type": "code",
   "execution_count": 28,
   "id": "de9a445e",
   "metadata": {},
   "outputs": [
    {
     "data": {
      "text/plain": [
       "'12345'"
      ]
     },
     "execution_count": 28,
     "metadata": {},
     "output_type": "execute_result"
    }
   ],
   "source": [
    "lstPerson = [[\"John\", \"Smith\"], [\"17 New Street\", \"12345\", \"London\"], \"0786-7890\"]\n",
    "zepcode = lstPerson[1][1]\n",
    "zepcode"
   ]
  },
  {
   "cell_type": "code",
   "execution_count": 29,
   "id": "c2eb71a2",
   "metadata": {},
   "outputs": [
    {
     "data": {
      "text/plain": [
       "'0786-7890'"
      ]
     },
     "execution_count": 29,
     "metadata": {},
     "output_type": "execute_result"
    }
   ],
   "source": [
    "lstPerson = [[\"John\", \"Smith\"], [\"17 New Street\", \"12345\", \"London\"], \"0786-7890\"]\n",
    "zepcode = lstPerson[2]\n",
    "zepcode"
   ]
  },
  {
   "cell_type": "markdown",
   "id": "4c051256",
   "metadata": {},
   "source": [
    "# Elements of a list can be accessed by an index"
   ]
  },
  {
   "cell_type": "code",
   "execution_count": 56,
   "id": "df9c2cf5",
   "metadata": {},
   "outputs": [
    {
     "data": {
      "text/plain": [
       "['b', ['c', 'x']]"
      ]
     },
     "execution_count": 56,
     "metadata": {},
     "output_type": "execute_result"
    }
   ],
   "source": [
    "complex_list = [[\"a\", [\"b\", [\"c\", \"x\"]]], 74 ]\n",
    "# out put  b, c and x\n",
    " \n",
    "output = complex_list[0][1]\n",
    "output\n"
   ]
  },
  {
   "cell_type": "markdown",
   "id": "4484f05e",
   "metadata": {},
   "source": [
    "# Elements of a list can be accessed by an index"
   ]
  },
  {
   "cell_type": "code",
   "execution_count": 58,
   "id": "bafd69fc",
   "metadata": {},
   "outputs": [
    {
     "data": {
      "text/plain": [
       "'c'"
      ]
     },
     "execution_count": 58,
     "metadata": {},
     "output_type": "execute_result"
    }
   ],
   "source": [
    "complex_list = [[\"a\", [\"b\", [\"c\", \"x\"]]], 74 ]\n",
    "\n",
    "# out put of c \n",
    "\n",
    "output = complex_list[0][1][1][0]\n",
    "output\n"
   ]
  },
  {
   "cell_type": "markdown",
   "id": "08af4fea",
   "metadata": {},
   "source": [
    "# Changing List\n"
   ]
  },
  {
   "cell_type": "code",
   "execution_count": 71,
   "id": "8e7d0db7",
   "metadata": {},
   "outputs": [
    {
     "data": {
      "text/plain": [
       "['Python', 'C', 'C++', 'Java', 'Lisp']"
      ]
     },
     "execution_count": 71,
     "metadata": {},
     "output_type": "execute_result"
    }
   ],
   "source": [
    "prgLanguages = [\"Python\", \"C\", \"C++\", \"Java\", \"Perl\"]\n",
    "#proLanguages = [\"Python\", \"C\", \"C++\", \"Java\", \"Perl\"]\n",
    "prgLanguages[4] = \"Lisp\"\n",
    "prgLanguages"
   ]
  },
  {
   "cell_type": "markdown",
   "id": "ae94c414",
   "metadata": {},
   "source": [
    "# insert append"
   ]
  },
  {
   "cell_type": "code",
   "execution_count": 78,
   "id": "65bfba36",
   "metadata": {},
   "outputs": [
    {
     "data": {
      "text/plain": [
       "['Python',\n",
       " 'perl',\n",
       " 'perl',\n",
       " 'perl',\n",
       " 'C',\n",
       " 'C++',\n",
       " 'Java',\n",
       " 'Lisp',\n",
       " 'Haskell',\n",
       " 'Haskell',\n",
       " 'Haskell',\n",
       " 'Haskell']"
      ]
     },
     "execution_count": 78,
     "metadata": {},
     "output_type": "execute_result"
    }
   ],
   "source": [
    "\n",
    "prgLanguages.append(\"Haskell\")\n",
    "prgLanguages"
   ]
  },
  {
   "cell_type": "markdown",
   "id": "bd46a859",
   "metadata": {},
   "source": [
    "# insert"
   ]
  },
  {
   "cell_type": "code",
   "execution_count": 77,
   "id": "2d0d0a39",
   "metadata": {},
   "outputs": [
    {
     "data": {
      "text/plain": [
       "['Python',\n",
       " 'perl',\n",
       " 'perl',\n",
       " 'perl',\n",
       " 'C',\n",
       " 'C++',\n",
       " 'Java',\n",
       " 'Lisp',\n",
       " 'Haskell',\n",
       " 'Haskell',\n",
       " 'Haskell']"
      ]
     },
     "execution_count": 77,
     "metadata": {},
     "output_type": "execute_result"
    }
   ],
   "source": [
    "prgLanguages.insert( 1, \"perl\")\n",
    "prgLanguages"
   ]
  },
  {
   "cell_type": "markdown",
   "id": "01451462",
   "metadata": {},
   "source": [
    "# Create a shopping list for your groceries and add, milk, yogurt, egg, bread, bananas, butter\n"
   ]
  },
  {
   "cell_type": "markdown",
   "id": "ba827b92",
   "metadata": {},
   "source": [
    "# Delete = .pop()- only removed last one from the list "
   ]
  },
  {
   "cell_type": "code",
   "execution_count": 109,
   "id": "6ee0c5d5",
   "metadata": {},
   "outputs": [],
   "source": [
    "shoppinglist = [\"Milk\", \"yogurt\", \"egg\", \"bread\", \"bananas\", \"butter\"]\n",
    "cart = [] #This is an empty list\n",
    "# pop () - Removes the last element of the list and returns it\n",
    "article = shoppinglist.pop()\n",
    "article"
   ]
  },
  {
   "cell_type": "code",
   "execution_count": 105,
   "id": "aa583b2f",
   "metadata": {},
   "outputs": [
    {
     "data": {
      "text/plain": [
       "['butter']"
      ]
     },
     "execution_count": 105,
     "metadata": {},
     "output_type": "execute_result"
    }
   ],
   "source": [
    "shoppinglist = [\"Milk\",\"yogurt\", \"egg\", \"bread\", \"bananas\", \"butter\"]\n",
    "cart = [] #This is an empty list\n",
    "cart.append(article)\n"
   ]
  },
  {
   "cell_type": "code",
   "execution_count": 108,
   "id": "8d595342",
   "metadata": {},
   "outputs": [],
   "source": [
    "article = shoppinglist.pop()\n",
    "cart.append(article)"
   ]
  },
  {
   "cell_type": "code",
   "execution_count": 101,
   "id": "b45bc5b6",
   "metadata": {},
   "outputs": [
    {
     "data": {
      "text/plain": [
       "['butter', 'butter']"
      ]
     },
     "execution_count": 101,
     "metadata": {},
     "output_type": "execute_result"
    }
   ],
   "source": [
    "cart"
   ]
  },
  {
   "cell_type": "code",
   "execution_count": 95,
   "id": "a4f34be2",
   "metadata": {},
   "outputs": [
    {
     "data": {
      "text/plain": [
       "['yogurt', 'egg', 'bread', 'bananas']"
      ]
     },
     "execution_count": 95,
     "metadata": {},
     "output_type": "execute_result"
    }
   ],
   "source": [
    "shoppinglist"
   ]
  },
  {
   "cell_type": "code",
   "execution_count": null,
   "id": "63dd1123",
   "metadata": {},
   "outputs": [],
   "source": []
  },
  {
   "cell_type": "code",
   "execution_count": null,
   "id": "104528c4",
   "metadata": {},
   "outputs": [],
   "source": []
  }
 ],
 "metadata": {
  "kernelspec": {
   "display_name": "Python 3 (ipykernel)",
   "language": "python",
   "name": "python3"
  },
  "language_info": {
   "codemirror_mode": {
    "name": "ipython",
    "version": 3
   },
   "file_extension": ".py",
   "mimetype": "text/x-python",
   "name": "python",
   "nbconvert_exporter": "python",
   "pygments_lexer": "ipython3",
   "version": "3.11.5"
  }
 },
 "nbformat": 4,
 "nbformat_minor": 5
}
