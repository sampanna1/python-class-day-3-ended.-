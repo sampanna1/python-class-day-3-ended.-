{
 "cells": [
  {
   "cell_type": "markdown",
   "id": "e3e16556",
   "metadata": {},
   "source": [
    "# Sequencial Data Types\n",
    "Sequences are one of the principla build-in data types besides numerics, \n",
    "mappings, files, instances and exceptions. \n",
    "Python provides for six sequence (or sequential) data type:\n",
    "* Strings\n",
    "* byte sequences\n",
    "* byte arrays \n",
    "* lists\n",
    "* tuples\n",
    "* range objects \n"
   ]
  },
  {
   "cell_type": "code",
   "execution_count": 1,
   "id": "8fdbcc34",
   "metadata": {},
   "outputs": [
    {
     "data": {
      "text/plain": [
       "'H'"
      ]
     },
     "execution_count": 1,
     "metadata": {},
     "output_type": "execute_result"
    }
   ],
   "source": [
    "strTex = \"Hello World\"\n",
    "strTex[0]"
   ]
  },
  {
   "cell_type": "code",
   "execution_count": 10,
   "id": "33b7e332",
   "metadata": {
    "scrolled": true
   },
   "outputs": [
    {
     "data": {
      "text/plain": [
       "'Hamburg'"
      ]
     },
     "execution_count": 10,
     "metadata": {},
     "output_type": "execute_result"
    }
   ],
   "source": [
    "lstCities = [\"vienna\", \"London\", \"paris\", \"berlin\", \"Zurich\", \"Hamburg\"]\n",
    "lstCities[5]\n"
   ]
  },
  {
   "cell_type": "code",
   "execution_count": 13,
   "id": "6036246b",
   "metadata": {},
   "outputs": [
    {
     "data": {
      "text/plain": [
       "6"
      ]
     },
     "execution_count": 13,
     "metadata": {},
     "output_type": "execute_result"
    }
   ],
   "source": [
    "len(lstCities)"
   ]
  },
  {
   "cell_type": "code",
   "execution_count": 20,
   "id": "fab952ef",
   "metadata": {},
   "outputs": [
    {
     "data": {
      "text/plain": [
       "5"
      ]
     },
     "execution_count": 20,
     "metadata": {},
     "output_type": "execute_result"
    }
   ],
   "source": [
    "lstFibonacci = [1, 1, 2, 3, 5, 8, 23, 21, 34, 55]\n",
    "lstFibonacci[4]"
   ]
  },
  {
   "cell_type": "markdown",
   "id": "acd1fa0f",
   "metadata": {},
   "source": [
    "\n",
    "Question: Create a languages list and add values the following values \n",
    "->  python, c, c++, Jave and Perl. \n",
    "print a message that says, first and second langauge are quite different \n",
    "\n"
   ]
  },
  {
   "cell_type": "code",
   "execution_count": 33,
   "id": "9effe0af",
   "metadata": {
    "scrolled": true
   },
   "outputs": [
    {
     "name": "stdout",
     "output_type": "stream",
     "text": [
      "languagesand c are quit different\n"
     ]
    }
   ],
   "source": [
    "lstlanguages = [\"languages\", \"c\", \"c++\", \"Jave\", \"Perl\"]\n",
    "print(lstlanguages[0]+ \"and \" + lstlanguages[1] + \" are quit different\")"
   ]
  },
  {
   "cell_type": "code",
   "execution_count": 65,
   "id": "c7014081",
   "metadata": {},
   "outputs": [
    {
     "name": "stdout",
     "output_type": "stream",
     "text": [
      "Name: George age is: 72\n"
     ]
    }
   ],
   "source": [
    "lstGroup = [\"Bob\", 23, \"George\", 72, \" Myriam\", 29]\n",
    "print(\"Name:\", lstGroup[2], \"age is:\",  lstGroup[3] )\n"
   ]
  },
  {
   "cell_type": "code",
   "execution_count": null,
   "id": "e248c668",
   "metadata": {},
   "outputs": [],
   "source": []
  },
  {
   "cell_type": "code",
   "execution_count": null,
   "id": "7bb7d197",
   "metadata": {},
   "outputs": [],
   "source": []
  },
  {
   "cell_type": "code",
   "execution_count": null,
   "id": "87b4bfaa",
   "metadata": {},
   "outputs": [],
   "source": []
  }
 ],
 "metadata": {
  "kernelspec": {
   "display_name": "Python 3 (ipykernel)",
   "language": "python",
   "name": "python3"
  },
  "language_info": {
   "codemirror_mode": {
    "name": "ipython",
    "version": 3
   },
   "file_extension": ".py",
   "mimetype": "text/x-python",
   "name": "python",
   "nbconvert_exporter": "python",
   "pygments_lexer": "ipython3",
   "version": "3.11.5"
  }
 },
 "nbformat": 4,
 "nbformat_minor": 5
}
