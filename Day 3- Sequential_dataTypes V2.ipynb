{
 "cells": [
  {
   "cell_type": "markdown",
   "id": "e7456015",
   "metadata": {},
   "source": [
    "# Tuples\n",
    "\n",
    "A tuples is an immutable list. For example: A tuples cann't be changed in any way, once it has been created. History events. \n",
    "* Tuples are faster than lists \n",
    "* If you know that some data doesn't have to be changed, you should use Tuples insted of lists, because this protects your data againts accidental changes \n",
    "* The main advantage of Tuples is that Tuples can be used as keys in dictionries, whicle lists can't. \n",
    "\n"
   ]
  },
  {
   "cell_type": "code",
   "execution_count": 1,
   "id": "07c2b3f2",
   "metadata": {
    "scrolled": true
   },
   "outputs": [
    {
     "data": {
      "text/plain": [
       "('tuples', 'are', 'immutable')"
      ]
     },
     "execution_count": 1,
     "metadata": {},
     "output_type": "execute_result"
    }
   ],
   "source": [
    "tpl = (\"tuples\", \"are\", \"immutable\")\n",
    "tpl[0]\n",
    "tpl"
   ]
  },
  {
   "cell_type": "markdown",
   "id": "2963b12c",
   "metadata": {},
   "source": [
    "# Tuples value can't be replace"
   ]
  },
  {
   "cell_type": "code",
   "execution_count": 4,
   "id": "ab7e5ade",
   "metadata": {
    "scrolled": false
   },
   "outputs": [
    {
     "ename": "TypeError",
     "evalue": "'tuple' object does not support item assignment",
     "output_type": "error",
     "traceback": [
      "\u001b[1;31m---------------------------------------------------------------------------\u001b[0m",
      "\u001b[1;31mTypeError\u001b[0m                                 Traceback (most recent call last)",
      "Cell \u001b[1;32mIn[4], line 1\u001b[0m\n\u001b[1;32m----> 1\u001b[0m tpl[\u001b[38;5;241m0\u001b[39m] \u001b[38;5;241m=\u001b[39m \u001b[38;5;124m\"\u001b[39m\u001b[38;5;124mtry to assing this value to a tuple\u001b[39m\u001b[38;5;124m\"\u001b[39m\n",
      "\u001b[1;31mTypeError\u001b[0m: 'tuple' object does not support item assignment"
     ]
    }
   ],
   "source": [
    "tpl[0] = \"try to assing this value to a tuple\"\n"
   ]
  },
  {
   "cell_type": "code",
   "execution_count": 8,
   "id": "43771c8c",
   "metadata": {},
   "outputs": [
    {
     "data": {
      "text/plain": [
       "['a', 'b']"
      ]
     },
     "execution_count": 8,
     "metadata": {},
     "output_type": "execute_result"
    }
   ],
   "source": [
    "tplList =([\"a\",\"b\"], \"c\",\"d\")\n",
    "tplList[0]\n"
   ]
  },
  {
   "cell_type": "code",
   "execution_count": 11,
   "id": "026d16e5",
   "metadata": {},
   "outputs": [
    {
     "data": {
      "text/plain": [
       "list"
      ]
     },
     "execution_count": 11,
     "metadata": {},
     "output_type": "execute_result"
    }
   ],
   "source": [
    "type(tplList[0]) #Trying to find what kind of data is this by typing TYPE and variable \n"
   ]
  },
  {
   "cell_type": "code",
   "execution_count": 12,
   "id": "c0214479",
   "metadata": {},
   "outputs": [
    {
     "data": {
      "text/plain": [
       "tuple"
      ]
     },
     "execution_count": 12,
     "metadata": {},
     "output_type": "execute_result"
    }
   ],
   "source": [
    "type(tplList) #Trying to find what kind of data is this by typing TYPE and variable \n"
   ]
  },
  {
   "cell_type": "code",
   "execution_count": 10,
   "id": "0e82db58",
   "metadata": {},
   "outputs": [
    {
     "data": {
      "text/plain": [
       "(['a', 'b', 'ab'], 'c', 'd')"
      ]
     },
     "execution_count": 10,
     "metadata": {},
     "output_type": "execute_result"
    }
   ],
   "source": [
    "tplList =([\"a\",\"b\"], \"c\",\"d\")\n",
    "tplList[0].append(\"ab\")\n",
    "tplList\n"
   ]
  },
  {
   "cell_type": "code",
   "execution_count": null,
   "id": "495bc21b",
   "metadata": {},
   "outputs": [],
   "source": [
    "tplList =([\"a\",\"b\"], \"c\",\"d\")\n",
    "tplList[0].append(\"ab\")\n",
    "tplList\n"
   ]
  },
  {
   "cell_type": "code",
   "execution_count": 13,
   "id": "ba1b94ce",
   "metadata": {},
   "outputs": [
    {
     "data": {
      "text/plain": [
       "list"
      ]
     },
     "execution_count": 13,
     "metadata": {},
     "output_type": "execute_result"
    }
   ],
   "source": [
    "regularListandTuple = [\"a\", (1, 1, 2, 3, 5), \"b\", \"C\"]\n",
    "type(regularListandTuple)"
   ]
  },
  {
   "cell_type": "code",
   "execution_count": 14,
   "id": "dbe52868",
   "metadata": {},
   "outputs": [
    {
     "data": {
      "text/plain": [
       "tuple"
      ]
     },
     "execution_count": 14,
     "metadata": {},
     "output_type": "execute_result"
    }
   ],
   "source": [
    "type(regularListandTuple[1])"
   ]
  },
  {
   "cell_type": "code",
   "execution_count": 15,
   "id": "f93aa2a0",
   "metadata": {},
   "outputs": [
    {
     "ename": "TypeError",
     "evalue": "'tuple' object does not support item assignment",
     "output_type": "error",
     "traceback": [
      "\u001b[1;31m---------------------------------------------------------------------------\u001b[0m",
      "\u001b[1;31mTypeError\u001b[0m                                 Traceback (most recent call last)",
      "Cell \u001b[1;32mIn[15], line 1\u001b[0m\n\u001b[1;32m----> 1\u001b[0m regularListandTuple[\u001b[38;5;241m1\u001b[39m][\u001b[38;5;241m0\u001b[39m] \u001b[38;5;241m=\u001b[39m\u001b[38;5;124m\"\u001b[39m\u001b[38;5;124mz\u001b[39m\u001b[38;5;124m\"\u001b[39m\n",
      "\u001b[1;31mTypeError\u001b[0m: 'tuple' object does not support item assignment"
     ]
    }
   ],
   "source": [
    "regularListandTuple[1][0] =\"z\""
   ]
  },
  {
   "cell_type": "code",
   "execution_count": 19,
   "id": "973e2128",
   "metadata": {},
   "outputs": [
    {
     "data": {
      "text/plain": [
       "(10, 5)"
      ]
     },
     "execution_count": 19,
     "metadata": {},
     "output_type": "execute_result"
    }
   ],
   "source": [
    "coordinates = [(10,5),(20,15),(30,25)]\n",
    "\n",
    "coordinates[0]"
   ]
  },
  {
   "cell_type": "code",
   "execution_count": 20,
   "id": "cc446f33",
   "metadata": {},
   "outputs": [
    {
     "data": {
      "text/plain": [
       "['A', (20, 15), (30, 25)]"
      ]
     },
     "execution_count": 20,
     "metadata": {},
     "output_type": "execute_result"
    }
   ],
   "source": [
    "coordinates[0] = \"A\"\n",
    "coordinates"
   ]
  },
  {
   "cell_type": "markdown",
   "id": "bf0c3ebd",
   "metadata": {},
   "source": [
    "# Slicing (SubAry)\n"
   ]
  },
  {
   "cell_type": "code",
   "execution_count": 25,
   "id": "e18c512d",
   "metadata": {},
   "outputs": [
    {
     "data": {
      "text/plain": [
       "'python'"
      ]
     },
     "execution_count": 25,
     "metadata": {},
     "output_type": "execute_result"
    }
   ],
   "source": [
    "message = \"python is great\"\n",
    "firstSix = message [0:6]\n",
    "firstSix"
   ]
  },
  {
   "cell_type": "code",
   "execution_count": 26,
   "id": "d03c12c5",
   "metadata": {},
   "outputs": [
    {
     "data": {
      "text/plain": [
       "'n is great'"
      ]
     },
     "execution_count": 26,
     "metadata": {},
     "output_type": "execute_result"
    }
   ],
   "source": [
    "startAtFive = message[5:]\n",
    "startAtFive"
   ]
  },
  {
   "cell_type": "code",
   "execution_count": 27,
   "id": "2a601164",
   "metadata": {},
   "outputs": [
    {
     "data": {
      "text/plain": [
       "'python is great'"
      ]
     },
     "execution_count": 27,
     "metadata": {},
     "output_type": "execute_result"
    }
   ],
   "source": [
    "cloneData = message[:]\n",
    "cloneData"
   ]
  },
  {
   "cell_type": "code",
   "execution_count": 29,
   "id": "77e3811c",
   "metadata": {},
   "outputs": [
    {
     "data": {
      "text/plain": [
       "'python is'"
      ]
     },
     "execution_count": 29,
     "metadata": {},
     "output_type": "execute_result"
    }
   ],
   "source": [
    "withoutLastFive = cloneData[0:-6]\n",
    "withoutLastFive"
   ]
  },
  {
   "cell_type": "markdown",
   "id": "c95e74f6",
   "metadata": {},
   "source": [
    "# Creating List within a Slic"
   ]
  },
  {
   "cell_type": "code",
   "execution_count": 42,
   "id": "199987e9",
   "metadata": {},
   "outputs": [
    {
     "data": {
      "text/plain": [
       "['Vienna', 'London', 'Paris']"
      ]
     },
     "execution_count": 42,
     "metadata": {},
     "output_type": "execute_result"
    }
   ],
   "source": [
    "lstCities = [\"Vienna\", \"London\", \"Paris\", \"Berlin\", \"Zurich\", \"Hamburg\"]\n",
    "FirstThree = lstCities[0:3]\n",
    "FirstThree\n"
   ]
  },
  {
   "cell_type": "code",
   "execution_count": 43,
   "id": "e7099ea3",
   "metadata": {},
   "outputs": [
    {
     "data": {
      "text/plain": [
       "['Vienna', 'London', 'Paris', 'Berlin']"
      ]
     },
     "execution_count": 43,
     "metadata": {},
     "output_type": "execute_result"
    }
   ],
   "source": [
    "allButLastTwo = lstCities [:-2]\n",
    "allButLastTwo"
   ]
  },
  {
   "cell_type": "markdown",
   "id": "8d1ef6e4",
   "metadata": {},
   "source": [
    "# Slicing has begin and eng [begin:end]\n",
    "# Slicing also has 3 operators  [begin:end:step]"
   ]
  },
  {
   "cell_type": "markdown",
   "id": "b1562521",
   "metadata": {},
   "source": [
    "\n",
    "# Length\n",
    "Length of a sequence, For example: a list or a tuple can be determinded with the function len()\n"
   ]
  },
  {
   "cell_type": "code",
   "execution_count": 49,
   "id": "c7dc4809",
   "metadata": {},
   "outputs": [
    {
     "data": {
      "text/plain": [
       "11"
      ]
     },
     "execution_count": 49,
     "metadata": {},
     "output_type": "execute_result"
    }
   ],
   "source": [
    "txt = \"Hello World\"\n",
    "len(txt)"
   ]
  },
  {
   "cell_type": "code",
   "execution_count": 51,
   "id": "0ba39c05",
   "metadata": {},
   "outputs": [
    {
     "data": {
      "text/plain": [
       "4"
      ]
     },
     "execution_count": 51,
     "metadata": {},
     "output_type": "execute_result"
    }
   ],
   "source": [
    "lstABC = [\"john\", 48, 3.54, \"jane\"]\n",
    "len(lstABC)"
   ]
  },
  {
   "cell_type": "markdown",
   "id": "c2a7adeb",
   "metadata": {},
   "source": [
    "# Concatenation of Sequences "
   ]
  },
  {
   "cell_type": "code",
   "execution_count": 55,
   "id": "987d2df3",
   "metadata": {},
   "outputs": [
    {
     "data": {
      "text/plain": [
       "['red', 'green', 'blue', 'black', 'white']"
      ]
     },
     "execution_count": 55,
     "metadata": {},
     "output_type": "execute_result"
    }
   ],
   "source": [
    "Colors1 =[\"red\",\"green\",\"blue\"]\n",
    "Colors2 =[\"black\",\"white\"]\n",
    "Colors = Colors1 + Colors2\n",
    "Colors"
   ]
  },
  {
   "cell_type": "markdown",
   "id": "784a4d93",
   "metadata": {},
   "source": [
    "# Increment Operation\n"
   ]
  },
  {
   "cell_type": "code",
   "execution_count": 58,
   "id": "40066e4f",
   "metadata": {},
   "outputs": [
    {
     "data": {
      "text/plain": [
       "3"
      ]
     },
     "execution_count": 58,
     "metadata": {},
     "output_type": "execute_result"
    }
   ],
   "source": [
    "x = 2\n",
    "x = x + 1\n",
    "x"
   ]
  },
  {
   "cell_type": "code",
   "execution_count": 59,
   "id": "f6251ff9",
   "metadata": {},
   "outputs": [
    {
     "data": {
      "text/plain": [
       "3"
      ]
     },
     "execution_count": 59,
     "metadata": {},
     "output_type": "execute_result"
    }
   ],
   "source": [
    "y = 2\n",
    "y += 1 #Augmented Assignment \n",
    "y"
   ]
  },
  {
   "cell_type": "markdown",
   "id": "b9716b0f",
   "metadata": {},
   "source": [
    "# Checking if an element is contained in list"
   ]
  },
  {
   "cell_type": "code",
   "execution_count": 60,
   "id": "00418669",
   "metadata": {},
   "outputs": [
    {
     "data": {
      "text/plain": [
       "True"
      ]
     },
     "execution_count": 60,
     "metadata": {},
     "output_type": "execute_result"
    }
   ],
   "source": [
    "abc = [\"a\",\"b\",\"c\", \"d\", \"e\",]\n",
    "\"a\" in abc"
   ]
  },
  {
   "cell_type": "code",
   "execution_count": 61,
   "id": "65926115",
   "metadata": {},
   "outputs": [
    {
     "data": {
      "text/plain": [
       "False"
      ]
     },
     "execution_count": 61,
     "metadata": {},
     "output_type": "execute_result"
    }
   ],
   "source": [
    "\"a\" not in abc"
   ]
  },
  {
   "cell_type": "code",
   "execution_count": 62,
   "id": "5b2679ff",
   "metadata": {},
   "outputs": [
    {
     "data": {
      "text/plain": [
       "True"
      ]
     },
     "execution_count": 62,
     "metadata": {},
     "output_type": "execute_result"
    }
   ],
   "source": [
    "\"f\" not in abc"
   ]
  },
  {
   "cell_type": "markdown",
   "id": "654ddefb",
   "metadata": {},
   "source": [
    "# Test Question\n",
    "\n",
    "\n"
   ]
  },
  {
   "cell_type": "code",
   "execution_count": 64,
   "id": "f216200b",
   "metadata": {},
   "outputs": [
    {
     "name": "stdout",
     "output_type": "stream",
     "text": [
      "2.75\n",
      "2\n",
      "3\n"
     ]
    }
   ],
   "source": [
    "#Python code for arithetic operations |\n",
    "a = 11\n",
    "b = 4\n",
    "print (a/b) #output 2.75\n",
    "print (a//b) #output 2\n",
    "print (a%b) #output 3 \n",
    "\n"
   ]
  },
  {
   "cell_type": "code",
   "execution_count": null,
   "id": "bc350987",
   "metadata": {},
   "outputs": [],
   "source": [
    "# Match the data type to the code segment \n",
    "\n",
    "# bool, Float, int, Str\n",
    "\n",
    "age = 2 #int\n",
    "minor = False #bool\n",
    "name = \"Johnny\" #Str\n",
    "weight = 123.5 #float\n",
    "zip =\"8100\" #str"
   ]
  },
  {
   "cell_type": "code",
   "execution_count": 65,
   "id": "79f758fe",
   "metadata": {},
   "outputs": [
    {
     "name": "stdout",
     "output_type": "stream",
     "text": [
      "False\n",
      "False\n",
      "True\n",
      "True\n"
     ]
    }
   ],
   "source": [
    "# you are developing a python application for your coompany, write the following \n",
    "# you need to make a selection in the drop down \n",
    "numList = [1,2,3,4,5]  \n",
    "alphaList = [\"a\",\"b\",\"c\",\"d\",\"e\"]\n",
    "print (numList is alphaList)  #output False\n",
    "print (numList == alphaList) #output False\n",
    "numList = alphaList\n",
    "print(numList is alphaList) #output True\n",
    "print(numList == alphaList)#output True "
   ]
  },
  {
   "cell_type": "code",
   "execution_count": 70,
   "id": "8ef69c18",
   "metadata": {},
   "outputs": [
    {
     "data": {
      "text/plain": [
       "15"
      ]
     },
     "execution_count": 70,
     "metadata": {},
     "output_type": "execute_result"
    }
   ],
   "source": [
    "# Eevaluate the following ptyon expression:\n",
    "\n",
    "(3*(1+2)**2 - (2**2)*3) #output is ? (3, 13, 15, 69)\n",
    "#(3*(3)**2 - (4)*3)\n",
    "#(3*(9) - (12)\n",
    "#(27) - (12)"
   ]
  },
  {
   "cell_type": "markdown",
   "id": "4b9c3042",
   "metadata": {},
   "source": [
    "A list named employees contains 200 employee names, the last five being comany management. you need to slice the list to display all employees exclding management.\n",
    "\n",
    "Which tow code segments should you use ?\n",
    "\n",
    "employees [1:-4]\n",
    "employees [:-5]\n",
    "employees [1:-5]\n",
    "employees [0:-5]\n",
    "\n",
    "# Answer\n",
    "employees [0:-5]"
   ]
  },
  {
   "cell_type": "markdown",
   "id": "8a41d918",
   "metadata": {},
   "source": [
    "# Extend Function "
   ]
  },
  {
   "cell_type": "code",
   "execution_count": 71,
   "id": "e1ba3e94",
   "metadata": {},
   "outputs": [
    {
     "data": {
      "text/plain": [
       "[43, 44, 45, [46, 47]]"
      ]
     },
     "execution_count": 71,
     "metadata": {},
     "output_type": "execute_result"
    }
   ],
   "source": [
    "lst = [43, 44, 45]\n",
    "lst2 = [46, 47]\n",
    "lst.append(lst2)\n",
    "lst"
   ]
  },
  {
   "cell_type": "code",
   "execution_count": 73,
   "id": "da378be9",
   "metadata": {},
   "outputs": [
    {
     "data": {
      "text/plain": [
       "[43, 44, 45, 46, 47]"
      ]
     },
     "execution_count": 73,
     "metadata": {},
     "output_type": "execute_result"
    }
   ],
   "source": [
    "lst3 = [43, 44, 45]\n",
    "lst4 = [46, 47]\n",
    "lst3.extend(lst4)\n",
    "lst3"
   ]
  },
  {
   "cell_type": "code",
   "execution_count": 75,
   "id": "ef1261f7",
   "metadata": {},
   "outputs": [
    {
     "data": {
      "text/plain": [
       "['a', 'b', 'c', 'P', 'y', 't', 'h', 'o', 'n']"
      ]
     },
     "execution_count": 75,
     "metadata": {},
     "output_type": "execute_result"
    }
   ],
   "source": [
    "lstStr = [\"a\",\"b\",\"c\"]\n",
    "prgLanguage = \"Python\"\n",
    "lstStr.extend(prgLanguage)\n",
    "lstStr"
   ]
  },
  {
   "cell_type": "code",
   "execution_count": null,
   "id": "f6b36077",
   "metadata": {},
   "outputs": [],
   "source": []
  }
 ],
 "metadata": {
  "kernelspec": {
   "display_name": "Python 3 (ipykernel)",
   "language": "python",
   "name": "python3"
  },
  "language_info": {
   "codemirror_mode": {
    "name": "ipython",
    "version": 3
   },
   "file_extension": ".py",
   "mimetype": "text/x-python",
   "name": "python",
   "nbconvert_exporter": "python",
   "pygments_lexer": "ipython3",
   "version": "3.11.5"
  }
 },
 "nbformat": 4,
 "nbformat_minor": 5
}
