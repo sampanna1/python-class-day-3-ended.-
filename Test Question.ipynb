{
 "cells": [
  {
   "cell_type": "markdown",
   "id": "3821c6e0",
   "metadata": {},
   "source": [
    "# Test Question\n",
    "\n"
   ]
  },
  {
   "cell_type": "code",
   "execution_count": 1,
   "id": "63665a95",
   "metadata": {},
   "outputs": [
    {
     "name": "stdout",
     "output_type": "stream",
     "text": [
      "2.75\n",
      "2\n",
      "3\n"
     ]
    }
   ],
   "source": [
    "#Python code for arithetic operations |\n",
    "a = 11\n",
    "b = 4\n",
    "print (a/b) #output 2.75\n",
    "print (a//b) #output 2\n",
    "print (a%b) #output 3 \n"
   ]
  },
  {
   "cell_type": "code",
   "execution_count": 2,
   "id": "437f2b10",
   "metadata": {},
   "outputs": [],
   "source": [
    "# Match the data type to the code segment \n",
    "\n",
    "# bool, Float, int, Str\n",
    "\n",
    "age = 2 #int\n",
    "minor = False #bool\n",
    "name = \"Johnny\" #Str\n",
    "weight = 123.5 #float\n",
    "zip =\"8100\" #str"
   ]
  },
  {
   "cell_type": "code",
   "execution_count": null,
   "id": "096c91bd",
   "metadata": {},
   "outputs": [],
   "source": [
    "# you are developing a python application for your coompany, write the following \n",
    "# you need to make a selection in the drop down \n",
    "numList = [1,2,3,4,5]  \n",
    "alphaList = [\"a\",\"b\",\"c\",\"d\",\"e\"]\n",
    "print (numList is alphaList)  #output False\n",
    "print (numList == alphaList) #output False\n",
    "numList = alphaList\n",
    "print(numList is alphaList) #output True\n",
    "print(numList == alphaList)#output True "
   ]
  },
  {
   "cell_type": "code",
   "execution_count": 4,
   "id": "aaea1a02",
   "metadata": {},
   "outputs": [
    {
     "data": {
      "text/plain": [
       "15"
      ]
     },
     "execution_count": 4,
     "metadata": {},
     "output_type": "execute_result"
    }
   ],
   "source": [
    " #Eevaluate the following ptyon expression:\n",
    "\n",
    "(3*(1+2)**2 - (2**2)*3) #output is ? (3, 13, 15, 69)\n",
    "#(3*(3)**2 - (4)*3)\n",
    "#(3*(9) - (12)\n",
    "#(27) - (12)"
   ]
  },
  {
   "cell_type": "markdown",
   "id": "6aec336e",
   "metadata": {},
   "source": [
    "A list named employees contains 200 employee names, the last five being comany management. you need to slice the list to display all employees exclding management. \n",
    "\n",
    "Which tow code segments should you use ? \n",
    "\n",
    "* employees [1:-4]\n",
    "* employees [:-5]\n",
    "* employees [1:-5]\n",
    "* employees [0:-5]\n",
    "\n",
    "\n",
    "# Answer \n",
    "employees [0:-5]"
   ]
  },
  {
   "cell_type": "code",
   "execution_count": null,
   "id": "211445fd",
   "metadata": {},
   "outputs": [],
   "source": []
  },
  {
   "cell_type": "code",
   "execution_count": null,
   "id": "5a2493b9",
   "metadata": {},
   "outputs": [],
   "source": []
  }
 ],
 "metadata": {
  "kernelspec": {
   "display_name": "Python 3 (ipykernel)",
   "language": "python",
   "name": "python3"
  },
  "language_info": {
   "codemirror_mode": {
    "name": "ipython",
    "version": 3
   },
   "file_extension": ".py",
   "mimetype": "text/x-python",
   "name": "python",
   "nbconvert_exporter": "python",
   "pygments_lexer": "ipython3",
   "version": "3.11.5"
  }
 },
 "nbformat": 4,
 "nbformat_minor": 5
}
